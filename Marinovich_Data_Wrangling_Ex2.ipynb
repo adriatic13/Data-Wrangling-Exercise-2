{
 "cells": [
  {
   "cell_type": "code",
   "execution_count": null,
   "metadata": {
    "collapsed": true
   },
   "outputs": [],
   "source": [
    "# Adrian Marinovich - Springboard Assignment - Data Wrangling Exercise #2\n",
    "# R Jupyter notebook with markdown at Azure Notebooks: https://notebooks.azure.com/adriatic/libraries/springboard \n",
    "# Version control at GitHub repository: github.com/adriatic13/springboard"
   ]
  },
  {
   "cell_type": "code",
   "execution_count": null,
   "metadata": {},
   "outputs": [],
   "source": [
    "#Getting started\n",
    "#\n",
    "#    Read the description of the data set on the Kaggle website.\n",
    "#\n",
    "#    Download the data as an excel file here.\n",
    "#\n",
    "#Exercise\n",
    "#\n",
    "#Using R, you’ll be handling missing values in this data set, and creating a new data set. \n",
    "#  Specifically, these are the tasks you need to do:"
   ]
  },
  {
   "cell_type": "code",
   "execution_count": null,
   "metadata": {},
   "outputs": [],
   "source": [
    "#0: Load the data in RStudio\n",
    "#\n",
    "#Save the data set as a CSV file called titanic_original.csv and load it in RStudio into a data frame."
   ]
  },
  {
   "cell_type": "code",
   "execution_count": 1,
   "metadata": {},
   "outputs": [
    {
     "name": "stdout",
     "output_type": "stream",
     "text": [
      "'data.frame':\t1309 obs. of  15 variables:\n",
      " $ X        : int  1 2 3 4 5 6 7 8 9 10 ...\n",
      " $ pclass   : int  1 1 1 1 1 1 1 1 1 1 ...\n",
      " $ survived : int  1 1 0 0 0 1 1 0 1 0 ...\n",
      " $ name     : Factor w/ 1307 levels \"Abbing, Mr. Anthony\",..: 22 24 25 26 27 31 46 47 51 55 ...\n",
      " $ sex      : Factor w/ 2 levels \"female\",\"male\": 1 2 1 2 1 2 1 2 1 2 ...\n",
      " $ age      : num  29 0.917 2 30 25 ...\n",
      " $ sibsp    : int  0 1 1 1 1 0 1 0 2 0 ...\n",
      " $ parch    : int  0 2 2 2 2 0 0 0 0 0 ...\n",
      " $ ticket   : Factor w/ 929 levels \"110152\",\"110413\",..: 188 50 50 50 50 125 93 16 77 826 ...\n",
      " $ fare     : num  211 152 152 152 152 ...\n",
      " $ cabin    : Factor w/ 186 levels \"A10\",\"A11\",\"A14\",..: 44 80 80 80 80 150 146 16 62 NA ...\n",
      " $ embarked : Factor w/ 3 levels \"C\",\"Q\",\"S\": 3 3 3 3 3 3 3 3 3 1 ...\n",
      " $ boat     : Factor w/ 27 levels \"1\",\"10\",\"11\",..: 12 3 NA NA NA 13 2 NA 27 NA ...\n",
      " $ body     : int  NA NA NA 135 NA NA NA NA NA 22 ...\n",
      " $ home.dest: Factor w/ 369 levels \"?Havana, Cuba\",..: 309 231 231 231 231 237 162 24 22 229 ...\n"
     ]
    }
   ],
   "source": [
    "titanic_orig <- read.csv('titanic_original.csv')\n",
    "str(titanic_orig)"
   ]
  },
  {
   "cell_type": "code",
   "execution_count": null,
   "metadata": {},
   "outputs": [],
   "source": [
    "# 1: Port of embarkation\n",
    "#\n",
    "#The embarked column has some missing values, which are known to correspond to passengers \n",
    "#  who actually embarked at Southampton. Find the missing values and replace them with S. \n",
    "#  (Caution: Sometimes a missing value might be read into R as a blank or empty string.)"
   ]
  },
  {
   "cell_type": "code",
   "execution_count": 48,
   "metadata": {},
   "outputs": [],
   "source": [
    "titanic_clean <- titanic_orig\n",
    "#subset(titanic_clean, is.na(embarked) | embarked==NA | embarked=='NA' | embarked=='', select=c(name, embarked))\n",
    "#subset(titanic_clean, is.na(embarked), select=c(name, embarked))\n",
    "#titanic_clean[which(is.na(titanic_clean$embarked)),]\n",
    "titanic_clean$embarked[is.na(titanic_clean$embarked)] <- 'S'"
   ]
  },
  {
   "cell_type": "code",
   "execution_count": 49,
   "metadata": {},
   "outputs": [
    {
     "data": {
      "text/html": [
       "<table>\n",
       "<thead><tr><th></th><th scope=col>X</th><th scope=col>pclass</th><th scope=col>survived</th><th scope=col>name</th><th scope=col>sex</th><th scope=col>age</th><th scope=col>sibsp</th><th scope=col>parch</th><th scope=col>ticket</th><th scope=col>fare</th><th scope=col>cabin</th><th scope=col>embarked</th><th scope=col>boat</th><th scope=col>body</th><th scope=col>home.dest</th></tr></thead>\n",
       "<tbody>\n",
       "\t<tr><th scope=row>169</th><td>169                                      </td><td>1                                        </td><td>1                                        </td><td>Icard, Miss. Amelie                      </td><td>female                                   </td><td>38                                       </td><td>0                                        </td><td>0                                        </td><td>113572                                   </td><td>80                                       </td><td>B28                                      </td><td>S                                        </td><td>6                                        </td><td>NA                                       </td><td>NA                                       </td></tr>\n",
       "\t<tr><th scope=row>285</th><td>285                                      </td><td>1                                        </td><td>1                                        </td><td>Stone, Mrs. George Nelson (Martha Evelyn)</td><td>female                                   </td><td>62                                       </td><td>0                                        </td><td>0                                        </td><td>113572                                   </td><td>80                                       </td><td>B28                                      </td><td>S                                        </td><td>6                                        </td><td>NA                                       </td><td>Cincinatti, OH                           </td></tr>\n",
       "</tbody>\n",
       "</table>\n"
      ],
      "text/latex": [
       "\\begin{tabular}{r|lllllllllllllll}\n",
       "  & X & pclass & survived & name & sex & age & sibsp & parch & ticket & fare & cabin & embarked & boat & body & home.dest\\\\\n",
       "\\hline\n",
       "\t169 & 169                                       & 1                                         & 1                                         & Icard, Miss. Amelie                       & female                                    & 38                                        & 0                                         & 0                                         & 113572                                    & 80                                        & B28                                       & S                                         & 6                                         & NA                                        & NA                                       \\\\\n",
       "\t285 & 285                                       & 1                                         & 1                                         & Stone, Mrs. George Nelson (Martha Evelyn) & female                                    & 62                                        & 0                                         & 0                                         & 113572                                    & 80                                        & B28                                       & S                                         & 6                                         & NA                                        & Cincinatti, OH                           \\\\\n",
       "\\end{tabular}\n"
      ],
      "text/markdown": [
       "\n",
       "| <!--/--> | X | pclass | survived | name | sex | age | sibsp | parch | ticket | fare | cabin | embarked | boat | body | home.dest | \n",
       "|---|---|\n",
       "| 169 | 169                                       | 1                                         | 1                                         | Icard, Miss. Amelie                       | female                                    | 38                                        | 0                                         | 0                                         | 113572                                    | 80                                        | B28                                       | S                                         | 6                                         | NA                                        | NA                                        | \n",
       "| 285 | 285                                       | 1                                         | 1                                         | Stone, Mrs. George Nelson (Martha Evelyn) | female                                    | 62                                        | 0                                         | 0                                         | 113572                                    | 80                                        | B28                                       | S                                         | 6                                         | NA                                        | Cincinatti, OH                            | \n",
       "\n",
       "\n"
      ],
      "text/plain": [
       "    X   pclass survived name                                      sex    age\n",
       "169 169 1      1        Icard, Miss. Amelie                       female 38 \n",
       "285 285 1      1        Stone, Mrs. George Nelson (Martha Evelyn) female 62 \n",
       "    sibsp parch ticket fare cabin embarked boat body home.dest     \n",
       "169 0     0     113572 80   B28   S        6    NA   NA            \n",
       "285 0     0     113572 80   B28   S        6    NA   Cincinatti, OH"
      ]
     },
     "metadata": {},
     "output_type": "display_data"
    }
   ],
   "source": [
    "#confirming replace of NA by S\n",
    "titanic_clean[which(titanic_clean$ticket=='113572'),]"
   ]
  },
  {
   "cell_type": "code",
   "execution_count": null,
   "metadata": {},
   "outputs": [],
   "source": [
    "#2: Age\n",
    "#\n",
    "#You’ll notice that a lot of the values in the Age column are missing. \n",
    "#  While there are many ways to fill these missing values, using the mean \n",
    "#  or median of the rest of the values is quite common in such cases.\n",
    "#\n",
    "#    1. Calculate the mean of the Age column and use that value to populate the missing values\n",
    "#\n",
    "#    2. Think about other ways you could have populated the missing values in the age column. \n",
    "#      Why would you pick any of those over the mean (or not)?\n"
   ]
  },
  {
   "cell_type": "code",
   "execution_count": 30,
   "metadata": {},
   "outputs": [],
   "source": [
    "#titanic_clean[which(is.na(titanic_clean$age)),]"
   ]
  },
  {
   "cell_type": "code",
   "execution_count": 50,
   "metadata": {},
   "outputs": [
    {
     "data": {
      "text/html": [
       "29.8811345124283"
      ],
      "text/latex": [
       "29.8811345124283"
      ],
      "text/markdown": [
       "29.8811345124283"
      ],
      "text/plain": [
       "[1] 29.88113"
      ]
     },
     "metadata": {},
     "output_type": "display_data"
    }
   ],
   "source": [
    "mean(titanic_clean$age, na.rm=TRUE)\n",
    "titanic_clean$age[is.na(titanic_clean$age)] <- mean(titanic_clean$age, na.rm=TRUE)\n",
    "\n",
    "#Other ways: \n",
    "#  1. Break the passengers with missing age into adult and child groups, and infer \n",
    "#  whether someone is adult or child based on a non-zero value for parch in combination \n",
    "#  with passenger by same last name whose age is present and shows an adult/child age \n",
    "#  to imply the relation\n",
    "#  2. Use the median instead of age - I think I would prefer this, since age extremes\n",
    "#  would have less of an impact by using median and might therefore more accurately\n",
    "#  approach the missing ages"
   ]
  },
  {
   "cell_type": "code",
   "execution_count": null,
   "metadata": {},
   "outputs": [],
   "source": [
    "#3: Lifeboat\n",
    "#\n",
    "#You’re interested in looking at the distribution of passengers in different lifeboats, \n",
    "# but as we know, many passengers did not make it to a boat :-( \n",
    "# This means that there are a lot of missing values in the boat column. \n",
    "# Fill these empty slots with a dummy value e.g. the string 'None' or 'NA'"
   ]
  },
  {
   "cell_type": "code",
   "execution_count": 51,
   "metadata": {
    "scrolled": true
   },
   "outputs": [],
   "source": [
    "#str(titanic_clean)\n",
    "titanic_clean$boat <- as.character(titanic_clean$boat)\n",
    "titanic_clean$boat[is.na(titanic_clean$boat)] <- 'None'"
   ]
  },
  {
   "cell_type": "code",
   "execution_count": null,
   "metadata": {},
   "outputs": [],
   "source": [
    "#4: Cabin\n",
    "#\n",
    "#You notice that many passengers don’t have a cabin number associated with them.\n",
    "#\n",
    "#    Does it make sense to fill missing cabin numbers with a value?\n",
    "#\n",
    "#    What does a missing value here mean?\n",
    "#\n",
    "#You have a hunch that the fact that the cabin number is missing might be a useful \n",
    "#  indicator of survival. Create a new column has_cabin_number which has 1 if there \n",
    "#  is a cabin number, and 0 otherwise."
   ]
  },
  {
   "cell_type": "code",
   "execution_count": null,
   "metadata": {},
   "outputs": [],
   "source": [
    "# It does not make sense to fill cabin numbers with a value, since a missing value\n",
    "#  may mean that the passenger was not assigned to a cabin, chose not to have the\n",
    "#  cabin number noted, and/or the passenger may be sharing a cabin with another passenger, \n",
    "#  so that there is no meaningful way to impute a value for a missing value"
   ]
  },
  {
   "cell_type": "code",
   "execution_count": 52,
   "metadata": {},
   "outputs": [],
   "source": [
    "titanic_clean$has_cabin_number[!is.na(titanic_clean$cabin)] <- 1\n",
    "titanic_clean$has_cabin_number[is.na(titanic_clean$cabin)] <- 0"
   ]
  },
  {
   "cell_type": "code",
   "execution_count": null,
   "metadata": {},
   "outputs": [],
   "source": []
  },
  {
   "cell_type": "code",
   "execution_count": null,
   "metadata": {},
   "outputs": [],
   "source": [
    "#5: Submit the project on Github\n",
    "#\n",
    "#Include your code, the original data as a CSV file titanic_original.csv, \n",
    "#  and the cleaned up data as a CSV file called titanic_clean.csv."
   ]
  },
  {
   "cell_type": "code",
   "execution_count": 56,
   "metadata": {},
   "outputs": [],
   "source": [
    "write.csv(titanic_clean, file='titanic_clean.csv')"
   ]
  },
  {
   "cell_type": "code",
   "execution_count": 57,
   "metadata": {},
   "outputs": [
    {
     "data": {
      "text/html": [
       "<ol class=list-inline>\n",
       "\t<li>'Marinovich_Data_Wrangling_Ex1.ipynb'</li>\n",
       "\t<li>'Marinovich_Data_Wrangling_Ex2.ipynb'</li>\n",
       "\t<li>'README.md'</li>\n",
       "\t<li>'refine_clean.csv'</li>\n",
       "\t<li>'refine_original.csv'</li>\n",
       "\t<li>'refine.xlsx'</li>\n",
       "\t<li>'titanic_clean.csv'</li>\n",
       "\t<li>'titanic3.xls'</li>\n",
       "</ol>\n"
      ],
      "text/latex": [
       "\\begin{enumerate*}\n",
       "\\item 'Marinovich\\_Data\\_Wrangling\\_Ex1.ipynb'\n",
       "\\item 'Marinovich\\_Data\\_Wrangling\\_Ex2.ipynb'\n",
       "\\item 'README.md'\n",
       "\\item 'refine\\_clean.csv'\n",
       "\\item 'refine\\_original.csv'\n",
       "\\item 'refine.xlsx'\n",
       "\\item 'titanic\\_clean.csv'\n",
       "\\item 'titanic3.xls'\n",
       "\\end{enumerate*}\n"
      ],
      "text/markdown": [
       "1. 'Marinovich_Data_Wrangling_Ex1.ipynb'\n",
       "2. 'Marinovich_Data_Wrangling_Ex2.ipynb'\n",
       "3. 'README.md'\n",
       "4. 'refine_clean.csv'\n",
       "5. 'refine_original.csv'\n",
       "6. 'refine.xlsx'\n",
       "7. 'titanic_clean.csv'\n",
       "8. 'titanic3.xls'\n",
       "\n",
       "\n"
      ],
      "text/plain": [
       "[1] \"Marinovich_Data_Wrangling_Ex1.ipynb\" \"Marinovich_Data_Wrangling_Ex2.ipynb\"\n",
       "[3] \"README.md\"                           \"refine_clean.csv\"                   \n",
       "[5] \"refine_original.csv\"                 \"refine.xlsx\"                        \n",
       "[7] \"titanic_clean.csv\"                   \"titanic3.xls\"                       "
      ]
     },
     "metadata": {},
     "output_type": "display_data"
    }
   ],
   "source": [
    "list.files()"
   ]
  },
  {
   "cell_type": "code",
   "execution_count": null,
   "metadata": {},
   "outputs": [],
   "source": []
  }
 ],
 "metadata": {
  "kernelspec": {
   "display_name": "R",
   "language": "R",
   "name": "r"
  },
  "language_info": {
   "codemirror_mode": "r",
   "file_extension": ".r",
   "mimetype": "text/x-r-source",
   "name": "R",
   "pygments_lexer": "r",
   "version": "3.4.1"
  }
 },
 "nbformat": 4,
 "nbformat_minor": 2
}
